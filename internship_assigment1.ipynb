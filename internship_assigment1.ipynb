{
 "cells": [
  {
   "cell_type": "code",
   "execution_count": 1,
   "metadata": {},
   "outputs": [
    {
     "name": "stdout",
     "output_type": "stream",
     "text": [
      "Mehmet Yavuz Gunduz_AI_Ass1\n",
      "Recite Darood e Pak\n"
     ]
    }
   ],
   "source": [
    "print(\"Mehmet Yavuz Gunduz_AI_Ass1\")\n",
    "print(\"Recite Darood e Pak\")\n",
    "\n",
    "def Passing_func():\n",
    "    total_marks = 90\n",
    "    \n",
    "    if total_marks < 70:\n",
    "        print(\"----> Oh No....!!!! You are disqualified\")\n",
    "    else:\n",
    "        print(\"----> Yeah!!! You are eligible for certificate\")\n",
    "        \n",
    "        Passing_func()"
   ]
  },
  {
   "cell_type": "code",
   "execution_count": null,
   "metadata": {},
   "outputs": [],
   "source": []
  }
 ],
 "metadata": {
  "kernelspec": {
   "display_name": "Python 3",
   "language": "python",
   "name": "python3"
  },
  "language_info": {
   "codemirror_mode": {
    "name": "ipython",
    "version": 3
   },
   "file_extension": ".py",
   "mimetype": "text/x-python",
   "name": "python",
   "nbconvert_exporter": "python",
   "pygments_lexer": "ipython3",
   "version": "3.12.3"
  }
 },
 "nbformat": 4,
 "nbformat_minor": 2
}
